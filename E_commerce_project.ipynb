{
  "nbformat": 4,
  "nbformat_minor": 0,
  "metadata": {
    "colab": {
      "name": "E_commerce_project.ipynb",
      "provenance": [],
      "collapsed_sections": [],
      "toc_visible": true
    },
    "kernelspec": {
      "name": "python3",
      "display_name": "Python 3"
    }
  },
  "cells": [
    {
      "cell_type": "markdown",
      "metadata": {
        "id": "cvbbuOLEKuev"
      },
      "source": [
        "## **E-commerce Text Classification Project**"
      ]
    },
    {
      "cell_type": "markdown",
      "metadata": {
        "id": "gk_95iknK3aD"
      },
      "source": [
        "PROGRAM NAME: E_commerce_project\r\n",
        "\r\n",
        "AUTHOR: Kevin Kluck\r\n",
        "\r\n",
        "DATE: 12/16/2020\r\n",
        "\r\n",
        "Python Version:3.7.6\r\n",
        "\r\n",
        "ABSTRACT: Classify text into 4 categories from E-Commerce website."
      ]
    },
    {
      "cell_type": "markdown",
      "metadata": {
        "id": "9MNOicizLHv2"
      },
      "source": [
        "### **Importthe libraries, load dataset**"
      ]
    },
    {
      "cell_type": "code",
      "metadata": {
        "colab": {
          "base_uri": "https://localhost:8080/"
        },
        "id": "hIsgQhVKLG_h",
        "outputId": "1a948c5e-7711-4d76-d563-61c34297d278"
      },
      "source": [
        "##############################\r\n",
        "##                          ##\r\n",
        "##      Import Libraries    ##\r\n",
        "##                          ##\r\n",
        "##############################\r\n",
        "seed = 1729\r\n",
        "import cv2\r\n",
        "import math\r\n",
        "import numpy as np\r\n",
        "import pandas as pd\r\n",
        "import seaborn as sns\r\n",
        "from matplotlib import pyplot as plt\r\n",
        "import pandas as pd\r\n",
        "\r\n",
        "import re, string, unicodedata\r\n",
        "import pandas as pd\r\n",
        "import nltk\r\n",
        "\r\n",
        "nltk.download('punkt')\r\n",
        "nltk.download('stopwords')\r\n",
        "nltk.download('wordnet')\r\n",
        "\r\n",
        "import nltk\r\n",
        "from nltk.tokenize import word_tokenize, sent_tokenize  # Import Tokenizer.\r\n",
        "from nltk.stem.wordnet import WordNetLemmatizer         # Import Lemmatizer.\r\n",
        "import re\r\n",
        "import unicodedata\r\n",
        "!pip install contractions\r\n",
        "import contractions\r\n",
        "from bs4 import BeautifulSoup\r\n",
        "from sklearn.feature_extraction.text import TfidfVectorizer\r\n",
        "\r\n",
        "\r\n",
        "############# python formating ##################\r\n",
        "extra = {'Bold': '\\x1b[1m',\r\n",
        "        'Underline': '\\x1b[4m',\r\n",
        "        'End': '\\x1b[0m',\r\n",
        "         'Blue': '\\x1b[94m'}"
      ],
      "execution_count": 88,
      "outputs": [
        {
          "output_type": "stream",
          "text": [
            "[nltk_data] Downloading package punkt to /root/nltk_data...\n",
            "[nltk_data]   Package punkt is already up-to-date!\n",
            "[nltk_data] Downloading package stopwords to /root/nltk_data...\n",
            "[nltk_data]   Package stopwords is already up-to-date!\n",
            "[nltk_data] Downloading package wordnet to /root/nltk_data...\n",
            "[nltk_data]   Package wordnet is already up-to-date!\n",
            "Requirement already satisfied: contractions in /usr/local/lib/python3.6/dist-packages (0.0.43)\n",
            "Requirement already satisfied: textsearch in /usr/local/lib/python3.6/dist-packages (from contractions) (0.0.17)\n",
            "Requirement already satisfied: pyahocorasick in /usr/local/lib/python3.6/dist-packages (from textsearch->contractions) (1.4.0)\n",
            "Requirement already satisfied: Unidecode in /usr/local/lib/python3.6/dist-packages (from textsearch->contractions) (1.1.1)\n"
          ],
          "name": "stdout"
        }
      ]
    },
    {
      "cell_type": "code",
      "metadata": {
        "colab": {
          "base_uri": "https://localhost:8080/"
        },
        "id": "WRrG751WKqJs",
        "outputId": "8f776d99-0f3d-4e88-8aa6-0f815955d3e2"
      },
      "source": [
        "########## Mount Drive ##############\r\n",
        "from google.colab import drive\r\n",
        "drive.mount('/content/drive')"
      ],
      "execution_count": 89,
      "outputs": [
        {
          "output_type": "stream",
          "text": [
            "Drive already mounted at /content/drive; to attempt to forcibly remount, call drive.mount(\"/content/drive\", force_remount=True).\n"
          ],
          "name": "stdout"
        }
      ]
    },
    {
      "cell_type": "code",
      "metadata": {
        "id": "D7KwbPZUL0V0"
      },
      "source": [
        "############# Define Paths ############\r\n",
        "data_path = '/content/drive/MyDrive/Colab Notebooks/Data/Ecommerce/ecommerceDataset.csv'"
      ],
      "execution_count": 90,
      "outputs": []
    },
    {
      "cell_type": "code",
      "metadata": {
        "id": "PuHWK14eL3Ra"
      },
      "source": [
        "############## load data #################\r\n",
        "df = pd.read_csv(data_path)"
      ],
      "execution_count": 91,
      "outputs": []
    },
    {
      "cell_type": "markdown",
      "metadata": {
        "id": "W930c8UEMMNr"
      },
      "source": [
        "### **Exploratory Data Analysis**"
      ]
    },
    {
      "cell_type": "code",
      "metadata": {
        "colab": {
          "base_uri": "https://localhost:8080/"
        },
        "id": "VF-kzBwDMbNu",
        "outputId": "77675456-6513-4584-a6dc-a21cb375b74a"
      },
      "source": [
        "########### Shape of Data ##############\r\n",
        "print(extra['Bold'],extra['Blue'],extra['Underline'],\"\\nData Shape\")\r\n",
        "print(\"\\n\")\r\n",
        "print(extra['End'],df.shape)"
      ],
      "execution_count": 92,
      "outputs": [
        {
          "output_type": "stream",
          "text": [
            "\u001b[1m \u001b[94m \u001b[4m \n",
            "Data Shape\n",
            "\n",
            "\n",
            "\u001b[0m (50424, 2)\n"
          ],
          "name": "stdout"
        }
      ]
    },
    {
      "cell_type": "code",
      "metadata": {
        "colab": {
          "base_uri": "https://localhost:8080/",
          "height": 173
        },
        "id": "rGJjhTo-NFEF",
        "outputId": "0e7637dc-c12e-4273-a723-a2d1f39019eb"
      },
      "source": [
        "df.describe()"
      ],
      "execution_count": 93,
      "outputs": [
        {
          "output_type": "execute_result",
          "data": {
            "text/html": [
              "<div>\n",
              "<style scoped>\n",
              "    .dataframe tbody tr th:only-of-type {\n",
              "        vertical-align: middle;\n",
              "    }\n",
              "\n",
              "    .dataframe tbody tr th {\n",
              "        vertical-align: top;\n",
              "    }\n",
              "\n",
              "    .dataframe thead th {\n",
              "        text-align: right;\n",
              "    }\n",
              "</style>\n",
              "<table border=\"1\" class=\"dataframe\">\n",
              "  <thead>\n",
              "    <tr style=\"text-align: right;\">\n",
              "      <th></th>\n",
              "      <th>Label</th>\n",
              "      <th>Text</th>\n",
              "    </tr>\n",
              "  </thead>\n",
              "  <tbody>\n",
              "    <tr>\n",
              "      <th>count</th>\n",
              "      <td>50424</td>\n",
              "      <td>50423</td>\n",
              "    </tr>\n",
              "    <tr>\n",
              "      <th>unique</th>\n",
              "      <td>4</td>\n",
              "      <td>27801</td>\n",
              "    </tr>\n",
              "    <tr>\n",
              "      <th>top</th>\n",
              "      <td>Household</td>\n",
              "      <td>Think &amp; Grow Rich About the Author NAPOLEON HI...</td>\n",
              "    </tr>\n",
              "    <tr>\n",
              "      <th>freq</th>\n",
              "      <td>19312</td>\n",
              "      <td>30</td>\n",
              "    </tr>\n",
              "  </tbody>\n",
              "</table>\n",
              "</div>"
            ],
            "text/plain": [
              "            Label                                               Text\n",
              "count       50424                                              50423\n",
              "unique          4                                              27801\n",
              "top     Household  Think & Grow Rich About the Author NAPOLEON HI...\n",
              "freq        19312                                                 30"
            ]
          },
          "metadata": {
            "tags": []
          },
          "execution_count": 93
        }
      ]
    },
    {
      "cell_type": "markdown",
      "metadata": {
        "id": "F4-hl8XiP2aC"
      },
      "source": [
        "I have over 50,000 text in this data set. I have 4 unique groups, which Household is the largest group. From the text side it appears a good number of items have the same description. From the count there might be one missing text observation. There is one produce description that has occurd as many as thirty times."
      ]
    },
    {
      "cell_type": "code",
      "metadata": {
        "colab": {
          "base_uri": "https://localhost:8080/"
        },
        "id": "XFJHKMq_Mpj2",
        "outputId": "b6c03bc4-0de3-43bf-bd74-4ec4b2b5ae38"
      },
      "source": [
        "print(extra['Bold'],extra['Blue'],extra['Underline'],\"\\nData Types\")\r\n",
        "print(\"\\n\")\r\n",
        "print(extra['End'],df.dtypes)"
      ],
      "execution_count": 94,
      "outputs": [
        {
          "output_type": "stream",
          "text": [
            "\u001b[1m \u001b[94m \u001b[4m \n",
            "Data Types\n",
            "\n",
            "\n",
            "\u001b[0m Label    object\n",
            "Text     object\n",
            "dtype: object\n"
          ],
          "name": "stdout"
        }
      ]
    },
    {
      "cell_type": "code",
      "metadata": {
        "colab": {
          "base_uri": "https://localhost:8080/"
        },
        "id": "gwnXhS37Myxy",
        "outputId": "0d2b59f2-b51e-4bc3-ed77-7b55a45238e0"
      },
      "source": [
        "print(extra['Bold'],extra['Blue'],extra['Underline'],\"\\nNumber of Missing Values per Column\")\r\n",
        "print(\"\\n\")\r\n",
        "print(extra['End'],df.isnull().sum())"
      ],
      "execution_count": 95,
      "outputs": [
        {
          "output_type": "stream",
          "text": [
            "\u001b[1m \u001b[94m \u001b[4m \n",
            "Number of Missing Values per Column\n",
            "\n",
            "\n",
            "\u001b[0m Label    0\n",
            "Text     1\n",
            "dtype: int64\n"
          ],
          "name": "stdout"
        }
      ]
    },
    {
      "cell_type": "code",
      "metadata": {
        "colab": {
          "base_uri": "https://localhost:8080/"
        },
        "id": "wYbovlxhQucf",
        "outputId": "290e8ffe-d52d-4ec4-fb4f-e8aa6b4d6318"
      },
      "source": [
        "############### Drop missing ###################\r\n",
        "df = df.dropna()\r\n",
        "df.isnull().sum()\r\n"
      ],
      "execution_count": 96,
      "outputs": [
        {
          "output_type": "execute_result",
          "data": {
            "text/plain": [
              "Label    0\n",
              "Text     0\n",
              "dtype: int64"
            ]
          },
          "metadata": {
            "tags": []
          },
          "execution_count": 96
        }
      ]
    },
    {
      "cell_type": "code",
      "metadata": {
        "colab": {
          "base_uri": "https://localhost:8080/"
        },
        "id": "z8C2cxw2NK1k",
        "outputId": "f6c9d91c-a92b-43bb-844c-cc0f7692c220"
      },
      "source": [
        "print(extra['Bold'],extra['Blue'],extra['Underline'],\"\\nStatistical Summary\")\r\n",
        "print(extra['End'])\r\n",
        "df['Label'].value_counts(normalize=True).round(2)"
      ],
      "execution_count": 97,
      "outputs": [
        {
          "output_type": "stream",
          "text": [
            "\u001b[1m \u001b[94m \u001b[4m \n",
            "Statistical Summary\n",
            "\u001b[0m\n"
          ],
          "name": "stdout"
        },
        {
          "output_type": "execute_result",
          "data": {
            "text/plain": [
              "Household                 0.38\n",
              "Books                     0.23\n",
              "Electronics               0.21\n",
              "Clothing & Accessories    0.17\n",
              "Name: Label, dtype: float64"
            ]
          },
          "metadata": {
            "tags": []
          },
          "execution_count": 97
        }
      ]
    },
    {
      "cell_type": "code",
      "metadata": {
        "colab": {
          "base_uri": "https://localhost:8080/"
        },
        "id": "wF3gRVO3NXXf",
        "outputId": "cfb0211d-cea1-49eb-e453-062aafc68fcf"
      },
      "source": [
        "labels = np.unique(df.Label)\r\n",
        "labels"
      ],
      "execution_count": 98,
      "outputs": [
        {
          "output_type": "execute_result",
          "data": {
            "text/plain": [
              "array(['Books', 'Clothing & Accessories', 'Electronics', 'Household'],\n",
              "      dtype=object)"
            ]
          },
          "metadata": {
            "tags": []
          },
          "execution_count": 98
        }
      ]
    },
    {
      "cell_type": "code",
      "metadata": {
        "colab": {
          "base_uri": "https://localhost:8080/",
          "height": 204
        },
        "id": "C2ks5q16NXma",
        "outputId": "83dd2204-1e62-4cea-c8ff-29175e572288"
      },
      "source": [
        "df.head()"
      ],
      "execution_count": 99,
      "outputs": [
        {
          "output_type": "execute_result",
          "data": {
            "text/html": [
              "<div>\n",
              "<style scoped>\n",
              "    .dataframe tbody tr th:only-of-type {\n",
              "        vertical-align: middle;\n",
              "    }\n",
              "\n",
              "    .dataframe tbody tr th {\n",
              "        vertical-align: top;\n",
              "    }\n",
              "\n",
              "    .dataframe thead th {\n",
              "        text-align: right;\n",
              "    }\n",
              "</style>\n",
              "<table border=\"1\" class=\"dataframe\">\n",
              "  <thead>\n",
              "    <tr style=\"text-align: right;\">\n",
              "      <th></th>\n",
              "      <th>Label</th>\n",
              "      <th>Text</th>\n",
              "    </tr>\n",
              "  </thead>\n",
              "  <tbody>\n",
              "    <tr>\n",
              "      <th>0</th>\n",
              "      <td>Household</td>\n",
              "      <td>Styleys Wrought Iron Coat Rack Hanger Creative...</td>\n",
              "    </tr>\n",
              "    <tr>\n",
              "      <th>1</th>\n",
              "      <td>Household</td>\n",
              "      <td>Cuisinart CCO-50BKN Deluxe Electric Can Opener...</td>\n",
              "    </tr>\n",
              "    <tr>\n",
              "      <th>2</th>\n",
              "      <td>Household</td>\n",
              "      <td>Anchor Penta 6 Amp 1 -Way Switch (White) - Pac...</td>\n",
              "    </tr>\n",
              "    <tr>\n",
              "      <th>3</th>\n",
              "      <td>Clothing &amp; Accessories</td>\n",
              "      <td>Proline Men's Track Jacket Proline Woven, 100%...</td>\n",
              "    </tr>\n",
              "    <tr>\n",
              "      <th>4</th>\n",
              "      <td>Household</td>\n",
              "      <td>Chef's Garage 2 Slot Edge Grip Kitchen Knife S...</td>\n",
              "    </tr>\n",
              "  </tbody>\n",
              "</table>\n",
              "</div>"
            ],
            "text/plain": [
              "                    Label                                               Text\n",
              "0               Household  Styleys Wrought Iron Coat Rack Hanger Creative...\n",
              "1               Household  Cuisinart CCO-50BKN Deluxe Electric Can Opener...\n",
              "2               Household  Anchor Penta 6 Amp 1 -Way Switch (White) - Pac...\n",
              "3  Clothing & Accessories  Proline Men's Track Jacket Proline Woven, 100%...\n",
              "4               Household  Chef's Garage 2 Slot Edge Grip Kitchen Knife S..."
            ]
          },
          "metadata": {
            "tags": []
          },
          "execution_count": 99
        }
      ]
    },
    {
      "cell_type": "code",
      "metadata": {
        "colab": {
          "base_uri": "https://localhost:8080/"
        },
        "id": "Y2Pp4LkX3xJq",
        "outputId": "fcff9120-1615-434f-f3f6-d03d54fb6731"
      },
      "source": [
        "text = df.loc[1:5, 'Text']\r\n",
        "text"
      ],
      "execution_count": 100,
      "outputs": [
        {
          "output_type": "execute_result",
          "data": {
            "text/plain": [
              "1    Cuisinart CCO-50BKN Deluxe Electric Can Opener...\n",
              "2    Anchor Penta 6 Amp 1 -Way Switch (White) - Pac...\n",
              "3    Proline Men's Track Jacket Proline Woven, 100%...\n",
              "4    Chef's Garage 2 Slot Edge Grip Kitchen Knife S...\n",
              "5    SYGA Electric Knife Sharpener, Multi-Functiona...\n",
              "Name: Text, dtype: object"
            ]
          },
          "metadata": {
            "tags": []
          },
          "execution_count": 100
        }
      ]
    },
    {
      "cell_type": "markdown",
      "metadata": {
        "id": "-oJ5g0buSVEn"
      },
      "source": [
        "### **Text pre-processing**"
      ]
    },
    {
      "cell_type": "code",
      "metadata": {
        "id": "5JuXAMuGTb_i"
      },
      "source": [
        "######################## Make Pre-Processing Function ##########################\r\n",
        "\r\n",
        "############### Tag Removal #######################\r\n",
        "def strip_html(text):\r\n",
        "    soup = BeautifulSoup(text, \"html.parser\")\r\n",
        "    return soup.get_text()\r\n",
        "\r\n",
        "################ Replace Contractions ###############\r\n",
        "def replace_contractions(text):\r\n",
        "    \"\"\"Replace contractions in string of text\"\"\"\r\n",
        "    return contractions.fix(text)\r\n",
        "\r\n",
        "############# Remove Numbers #############\r\n",
        "def remove_numbers(text):\r\n",
        "    text = re.sub(r'\\d+', '', text)\r\n",
        "    return text\r\n",
        "\r\n",
        "############ Tokenize ####################\r\n",
        "def tokenize_text(text):\r\n",
        "    return nltk.word_tokenize(text)\r\n",
        "\r\n",
        "############### Remove non=ASCII characters from list of tokenize words #########\r\n",
        "def remove_non_ascii(words):\r\n",
        "    new_words = []\r\n",
        "    for word in words:\r\n",
        "        new_word = unicodedata.normalize('NFKD', word).encode('ascii', 'ignore').decode('utf-8', 'ignore')\r\n",
        "        new_words.append(new_word)\r\n",
        "    return new_words\r\n",
        "\r\n",
        "############## Convert to lowercase ##############\r\n",
        "def to_lowercase(words):\r\n",
        "    new_words = []\r\n",
        "    for word in words:\r\n",
        "        new_word = word.lower()\r\n",
        "        new_words.append(new_word)\r\n",
        "    return new_words\r\n",
        "\r\n",
        "############# Remove Punctuations ###############\r\n",
        "def remove_punctuation(words):\r\n",
        "    \"\"\"Remove punctuation from list of tokenized words\"\"\"\r\n",
        "    new_words = []\r\n",
        "    for word in words:\r\n",
        "        new_word = re.sub(r'[^\\w\\s]', '', word)\r\n",
        "        if new_word != '':\r\n",
        "            new_words.append(new_word)\r\n",
        "    return new_words\r\n",
        "\r\n",
        "############ Lemmatize ###########\r\n",
        "def lemmatize_list(words):\r\n",
        "    new_words = []\r\n",
        "    for word in words:\r\n",
        "        new_words.append(lemmatizer.lemmatize(word, pos='v'))\r\n",
        "        \r\n",
        "    return new_words\r\n",
        "\r\n",
        "############ Remove Stop words ##########\r\n",
        "def remove_stopwords(words):\r\n",
        "    \"\"\"Remove stop words from list of tokenized words\"\"\"\r\n",
        "    new_words = []\r\n",
        "    for word in words:\r\n",
        "        if word not in stopwords:\r\n",
        "            new_words.append(word)\r\n",
        "    return new_words\r\n",
        "\r\n",
        "############ Put it all together in one function called pre_proccess\r\n",
        "def pre_proccess(text):\r\n",
        "    text = strip_html(text)\r\n",
        "    text = replace_contractions(text)\r\n",
        "    text = remove_numbers(text)\r\n",
        "    words = tokenize_text(text)\r\n",
        "    \r\n",
        "    words = remove_non_ascii(words)\r\n",
        "    words = to_lowercase(words)\r\n",
        "    words = remove_punctuation(words)\r\n",
        "    words = remove_stopwords(words)\r\n",
        "    words = lemmatize_list(words)\r\n",
        "    return ' '.join(words)\r\n"
      ],
      "execution_count": 101,
      "outputs": []
    },
    {
      "cell_type": "code",
      "metadata": {
        "id": "uI5ihuw2UiVN"
      },
      "source": [
        "from nltk.corpus import stopwords   \r\n",
        "stopwords = stopwords.words('english')\r\n",
        "\r\n",
        "######## Thanks Vinod for the list of custom words ###############\r\n",
        "customlist = ['not', \"couldn't\", 'didn', \"didn't\", 'doesn', \"doesn't\", 'hadn', \"hadn't\", 'hasn',\r\n",
        "        \"hasn't\", 'haven', \"haven't\", 'isn', \"isn't\", 'ma', 'mightn', \"mightn't\", 'mustn',\r\n",
        "        \"mustn't\", 'needn', \"needn't\", 'shan', \"shan't\", 'shouldn', \"shouldn't\", 'wasn',\r\n",
        "        \"wasn't\", 'weren', \"weren't\", 'won', \"won't\", 'wouldn', \"wouldn't\"]\r\n",
        "\r\n",
        "stopwords = list(set(stopwords) - set(customlist))\r\n",
        "\r\n",
        "lemmatizer = WordNetLemmatizer()"
      ],
      "execution_count": 102,
      "outputs": []
    },
    {
      "cell_type": "code",
      "metadata": {
        "colab": {
          "base_uri": "https://localhost:8080/"
        },
        "id": "4VwmQ06OVrJW",
        "outputId": "725b18d8-bf19-4caf-8d1a-4cd461720c2a"
      },
      "source": [
        "!python3 -m pip install pandarallel to install pandarallel"
      ],
      "execution_count": null,
      "outputs": [
        {
          "output_type": "stream",
          "text": [
            "Collecting pandarallel\n",
            "  Downloading https://files.pythonhosted.org/packages/62/30/3c2c89597bb01b75779432d469562a235c47538cf96152ed01d695ad41ce/pandarallel-1.5.1.tar.gz\n",
            "Collecting to\n",
            "  Downloading https://files.pythonhosted.org/packages/05/8b/949ffc9ca52aca12b21985f6d97e7946c8c284a638ee15d8851592014fbe/to-0.3.tar.gz\n",
            "Collecting install\n",
            "  Downloading https://files.pythonhosted.org/packages/f0/a5/fd2eb807a9a593869ee8b7a6bcb4ad84a6eb31cef5c24d1bfbf7c938c13f/install-1.3.4-py3-none-any.whl\n",
            "Requirement already satisfied: dill in /usr/local/lib/python3.6/dist-packages (from pandarallel) (0.3.3)\n",
            "Building wheels for collected packages: pandarallel, to\n",
            "  Building wheel for pandarallel (setup.py) ... \u001b[?25l\u001b[?25hdone\n",
            "  Created wheel for pandarallel: filename=pandarallel-1.5.1-cp36-none-any.whl size=17127 sha256=6c6d7c618afde173307ebd91dba88585c195763a5db51d9626af9ecd2a8c767a\n",
            "  Stored in directory: /root/.cache/pip/wheels/6f/c8/e5/d43fa63105ce1dd22f4df51bc2edfefd54d92ce64f25326314\n",
            "  Building wheel for to (setup.py) ... \u001b[?25l\u001b[?25hdone\n",
            "  Created wheel for to: filename=to-0.3-cp36-none-any.whl size=33556 sha256=b8031ffd7fafd72e736eae7905a1b6bbf9e5eb38d1298045c0ef825f2acb169e\n",
            "  Stored in directory: /root/.cache/pip/wheels/e4/d5/66/ca1fdaff491ab8f563cdf5d30a86280673511516335ac4afd1\n",
            "Successfully built pandarallel to\n",
            "Installing collected packages: pandarallel, to, install\n",
            "Successfully installed install-1.3.4 pandarallel-1.5.1 to-0.3\n"
          ],
          "name": "stdout"
        }
      ]
    },
    {
      "cell_type": "code",
      "metadata": {
        "colab": {
          "base_uri": "https://localhost:8080/"
        },
        "id": "AXTd-_RJU4_0",
        "outputId": "87e05af8-7f5b-47ae-b5de-c1283f349410"
      },
      "source": [
        "############# Use pandarallel to make processing faster ##########\r\n",
        "from pandarallel import pandarallel\r\n",
        "pandarallel.initialize(nb_workers=4)"
      ],
      "execution_count": 103,
      "outputs": [
        {
          "output_type": "stream",
          "text": [
            "INFO: Pandarallel will run on 4 workers.\n",
            "INFO: Pandarallel will use Memory file system to transfer data between the main process and workers.\n"
          ],
          "name": "stdout"
        }
      ]
    },
    {
      "cell_type": "code",
      "metadata": {
        "id": "Druxm1EaV8Rl"
      },
      "source": [
        "df['Text_p'] = df.parallel_apply(lambda row: pre_proccess(row['Text']), axis=1)"
      ],
      "execution_count": 104,
      "outputs": []
    },
    {
      "cell_type": "code",
      "metadata": {
        "colab": {
          "base_uri": "https://localhost:8080/",
          "height": 204
        },
        "id": "NCsIW6TGWYOx",
        "outputId": "76b9ac13-28cf-4db3-a60c-01d4e5567ab3"
      },
      "source": [
        "df.head(n=5)"
      ],
      "execution_count": 105,
      "outputs": [
        {
          "output_type": "execute_result",
          "data": {
            "text/html": [
              "<div>\n",
              "<style scoped>\n",
              "    .dataframe tbody tr th:only-of-type {\n",
              "        vertical-align: middle;\n",
              "    }\n",
              "\n",
              "    .dataframe tbody tr th {\n",
              "        vertical-align: top;\n",
              "    }\n",
              "\n",
              "    .dataframe thead th {\n",
              "        text-align: right;\n",
              "    }\n",
              "</style>\n",
              "<table border=\"1\" class=\"dataframe\">\n",
              "  <thead>\n",
              "    <tr style=\"text-align: right;\">\n",
              "      <th></th>\n",
              "      <th>Label</th>\n",
              "      <th>Text</th>\n",
              "      <th>Text_p</th>\n",
              "    </tr>\n",
              "  </thead>\n",
              "  <tbody>\n",
              "    <tr>\n",
              "      <th>0</th>\n",
              "      <td>Household</td>\n",
              "      <td>Styleys Wrought Iron Coat Rack Hanger Creative...</td>\n",
              "      <td>styleys work iron coat rack hanger creative fa...</td>\n",
              "    </tr>\n",
              "    <tr>\n",
              "      <th>1</th>\n",
              "      <td>Household</td>\n",
              "      <td>Cuisinart CCO-50BKN Deluxe Electric Can Opener...</td>\n",
              "      <td>cuisinart ccobkn deluxe electric opener black ...</td>\n",
              "    </tr>\n",
              "    <tr>\n",
              "      <th>2</th>\n",
              "      <td>Household</td>\n",
              "      <td>Anchor Penta 6 Amp 1 -Way Switch (White) - Pac...</td>\n",
              "      <td>anchor penta amp way switch white pack anchor ...</td>\n",
              "    </tr>\n",
              "    <tr>\n",
              "      <th>3</th>\n",
              "      <td>Clothing &amp; Accessories</td>\n",
              "      <td>Proline Men's Track Jacket Proline Woven, 100%...</td>\n",
              "      <td>proline men track jacket proline weave polyest...</td>\n",
              "    </tr>\n",
              "    <tr>\n",
              "      <th>4</th>\n",
              "      <td>Household</td>\n",
              "      <td>Chef's Garage 2 Slot Edge Grip Kitchen Knife S...</td>\n",
              "      <td>chef garage slot edge grip kitchen knife sharp...</td>\n",
              "    </tr>\n",
              "  </tbody>\n",
              "</table>\n",
              "</div>"
            ],
            "text/plain": [
              "                    Label  ...                                             Text_p\n",
              "0               Household  ...  styleys work iron coat rack hanger creative fa...\n",
              "1               Household  ...  cuisinart ccobkn deluxe electric opener black ...\n",
              "2               Household  ...  anchor penta amp way switch white pack anchor ...\n",
              "3  Clothing & Accessories  ...  proline men track jacket proline weave polyest...\n",
              "4               Household  ...  chef garage slot edge grip kitchen knife sharp...\n",
              "\n",
              "[5 rows x 3 columns]"
            ]
          },
          "metadata": {
            "tags": []
          },
          "execution_count": 105
        }
      ]
    },
    {
      "cell_type": "code",
      "metadata": {
        "colab": {
          "base_uri": "https://localhost:8080/",
          "height": 669
        },
        "id": "5t6LE6wrWk--",
        "outputId": "ccc19226-009f-4600-daa6-3dc3028c41ca"
      },
      "source": [
        "df.head(n=20)"
      ],
      "execution_count": 106,
      "outputs": [
        {
          "output_type": "execute_result",
          "data": {
            "text/html": [
              "<div>\n",
              "<style scoped>\n",
              "    .dataframe tbody tr th:only-of-type {\n",
              "        vertical-align: middle;\n",
              "    }\n",
              "\n",
              "    .dataframe tbody tr th {\n",
              "        vertical-align: top;\n",
              "    }\n",
              "\n",
              "    .dataframe thead th {\n",
              "        text-align: right;\n",
              "    }\n",
              "</style>\n",
              "<table border=\"1\" class=\"dataframe\">\n",
              "  <thead>\n",
              "    <tr style=\"text-align: right;\">\n",
              "      <th></th>\n",
              "      <th>Label</th>\n",
              "      <th>Text</th>\n",
              "      <th>Text_p</th>\n",
              "    </tr>\n",
              "  </thead>\n",
              "  <tbody>\n",
              "    <tr>\n",
              "      <th>0</th>\n",
              "      <td>Household</td>\n",
              "      <td>Styleys Wrought Iron Coat Rack Hanger Creative...</td>\n",
              "      <td>styleys work iron coat rack hanger creative fa...</td>\n",
              "    </tr>\n",
              "    <tr>\n",
              "      <th>1</th>\n",
              "      <td>Household</td>\n",
              "      <td>Cuisinart CCO-50BKN Deluxe Electric Can Opener...</td>\n",
              "      <td>cuisinart ccobkn deluxe electric opener black ...</td>\n",
              "    </tr>\n",
              "    <tr>\n",
              "      <th>2</th>\n",
              "      <td>Household</td>\n",
              "      <td>Anchor Penta 6 Amp 1 -Way Switch (White) - Pac...</td>\n",
              "      <td>anchor penta amp way switch white pack anchor ...</td>\n",
              "    </tr>\n",
              "    <tr>\n",
              "      <th>3</th>\n",
              "      <td>Clothing &amp; Accessories</td>\n",
              "      <td>Proline Men's Track Jacket Proline Woven, 100%...</td>\n",
              "      <td>proline men track jacket proline weave polyest...</td>\n",
              "    </tr>\n",
              "    <tr>\n",
              "      <th>4</th>\n",
              "      <td>Household</td>\n",
              "      <td>Chef's Garage 2 Slot Edge Grip Kitchen Knife S...</td>\n",
              "      <td>chef garage slot edge grip kitchen knife sharp...</td>\n",
              "    </tr>\n",
              "    <tr>\n",
              "      <th>5</th>\n",
              "      <td>Household</td>\n",
              "      <td>SYGA Electric Knife Sharpener, Multi-Functiona...</td>\n",
              "      <td>syga electric knife sharpener multifunctional ...</td>\n",
              "    </tr>\n",
              "    <tr>\n",
              "      <th>6</th>\n",
              "      <td>Household</td>\n",
              "      <td>Disha Napkin Dispenser - Chrome You are going ...</td>\n",
              "      <td>disha napkin dispenser chrome go love useful f...</td>\n",
              "    </tr>\n",
              "    <tr>\n",
              "      <th>7</th>\n",
              "      <td>Electronics</td>\n",
              "      <td>Sony Alpha A6000L 24.3MP Digital SLR Camera (B...</td>\n",
              "      <td>sony alpha al mp digital slr camera black mm l...</td>\n",
              "    </tr>\n",
              "    <tr>\n",
              "      <th>8</th>\n",
              "      <td>Electronics</td>\n",
              "      <td>xcluma Antenna for GSM FCT Device GSM FCT Cabl...</td>\n",
              "      <td>xcluma antenna gsm fct device gsm fct cable an...</td>\n",
              "    </tr>\n",
              "    <tr>\n",
              "      <th>9</th>\n",
              "      <td>Household</td>\n",
              "      <td>KitschKitsch Kids Plastic Portable Folding Tab...</td>\n",
              "      <td>kitschkitsch kid plastic portable fold table s...</td>\n",
              "    </tr>\n",
              "    <tr>\n",
              "      <th>10</th>\n",
              "      <td>Household</td>\n",
              "      <td>Cera F7040104 Shower Arm 305 mm (12\") with Wal...</td>\n",
              "      <td>cera f shower arm mm wall flange</td>\n",
              "    </tr>\n",
              "    <tr>\n",
              "      <th>11</th>\n",
              "      <td>Electronics</td>\n",
              "      <td>WD My Passport 3TB Portable External Hard Driv...</td>\n",
              "      <td>wd passport tb portable external hard drive bl...</td>\n",
              "    </tr>\n",
              "    <tr>\n",
              "      <th>12</th>\n",
              "      <td>Electronics</td>\n",
              "      <td>D-Link DCS-P6000LH Mini HD Wi-Fi Camera Works ...</td>\n",
              "      <td>dlink dcsplh mini hd wifi camera work alexa bl...</td>\n",
              "    </tr>\n",
              "    <tr>\n",
              "      <th>13</th>\n",
              "      <td>Household</td>\n",
              "      <td>Maxime Candles Rose Scented Wax Marble Candles...</td>\n",
              "      <td>maxime candle rise scent wax marble candle cm ...</td>\n",
              "    </tr>\n",
              "    <tr>\n",
              "      <th>14</th>\n",
              "      <td>Household</td>\n",
              "      <td>Kuber Industries Floral Center Table Cover - W...</td>\n",
              "      <td>kuber industries floral center table cover whi...</td>\n",
              "    </tr>\n",
              "    <tr>\n",
              "      <th>15</th>\n",
              "      <td>Household</td>\n",
              "      <td>Toolsmart Creme Brulee Refillable Professional...</td>\n",
              "      <td>toolsmart creme brulee refillable professional...</td>\n",
              "    </tr>\n",
              "    <tr>\n",
              "      <th>16</th>\n",
              "      <td>Household</td>\n",
              "      <td>MADHULI Steel Super Strong Chain Door Guard/Se...</td>\n",
              "      <td>madhuli steel super strong chain door guardsec...</td>\n",
              "    </tr>\n",
              "    <tr>\n",
              "      <th>17</th>\n",
              "      <td>Electronics</td>\n",
              "      <td>TopMate C5 12-15.6 inch Gaming Laptop Cooler, ...</td>\n",
              "      <td>topmate c inch game laptop cooler five quite f...</td>\n",
              "    </tr>\n",
              "    <tr>\n",
              "      <th>18</th>\n",
              "      <td>Household</td>\n",
              "      <td>Vastrang Sarees Egg Cutter &amp; Slicer, Plastic, ...</td>\n",
              "      <td>vastrang sarees egg cutter slicer plastic dura...</td>\n",
              "    </tr>\n",
              "    <tr>\n",
              "      <th>19</th>\n",
              "      <td>Household</td>\n",
              "      <td>Dolphy Multifold Mini Hand Towel Paper Dispens...</td>\n",
              "      <td>dolphy multifold mini hand towel paper dispens...</td>\n",
              "    </tr>\n",
              "  </tbody>\n",
              "</table>\n",
              "</div>"
            ],
            "text/plain": [
              "                     Label  ...                                             Text_p\n",
              "0                Household  ...  styleys work iron coat rack hanger creative fa...\n",
              "1                Household  ...  cuisinart ccobkn deluxe electric opener black ...\n",
              "2                Household  ...  anchor penta amp way switch white pack anchor ...\n",
              "3   Clothing & Accessories  ...  proline men track jacket proline weave polyest...\n",
              "4                Household  ...  chef garage slot edge grip kitchen knife sharp...\n",
              "5                Household  ...  syga electric knife sharpener multifunctional ...\n",
              "6                Household  ...  disha napkin dispenser chrome go love useful f...\n",
              "7              Electronics  ...  sony alpha al mp digital slr camera black mm l...\n",
              "8              Electronics  ...  xcluma antenna gsm fct device gsm fct cable an...\n",
              "9                Household  ...  kitschkitsch kid plastic portable fold table s...\n",
              "10               Household  ...                   cera f shower arm mm wall flange\n",
              "11             Electronics  ...  wd passport tb portable external hard drive bl...\n",
              "12             Electronics  ...  dlink dcsplh mini hd wifi camera work alexa bl...\n",
              "13               Household  ...  maxime candle rise scent wax marble candle cm ...\n",
              "14               Household  ...  kuber industries floral center table cover whi...\n",
              "15               Household  ...  toolsmart creme brulee refillable professional...\n",
              "16               Household  ...  madhuli steel super strong chain door guardsec...\n",
              "17             Electronics  ...  topmate c inch game laptop cooler five quite f...\n",
              "18               Household  ...  vastrang sarees egg cutter slicer plastic dura...\n",
              "19               Household  ...  dolphy multifold mini hand towel paper dispens...\n",
              "\n",
              "[20 rows x 3 columns]"
            ]
          },
          "metadata": {
            "tags": []
          },
          "execution_count": 106
        }
      ]
    },
    {
      "cell_type": "markdown",
      "metadata": {
        "id": "HUuenNYyWn-H"
      },
      "source": [
        "#### **Vecorization"
      ]
    },
    {
      "cell_type": "code",
      "metadata": {
        "id": "Fl15F4wjXEV5"
      },
      "source": [
        "x = df['Text_p']\r\n",
        "y = df['Label']"
      ],
      "execution_count": 107,
      "outputs": []
    },
    {
      "cell_type": "code",
      "metadata": {
        "id": "0-EvR9Wf8ckU"
      },
      "source": [
        "from sklearn.model_selection import train_test_split\r\n",
        "\r\n",
        "x_train, x_test, y_train, y_test = train_test_split(x, y, test_size=0.3, random_state=seed)"
      ],
      "execution_count": 108,
      "outputs": []
    },
    {
      "cell_type": "code",
      "metadata": {
        "id": "eDEpQTOp8mNO"
      },
      "source": [
        "import xgboost as xgb\r\n",
        "from sklearn.feature_extraction.text import CountVectorizer"
      ],
      "execution_count": 109,
      "outputs": []
    },
    {
      "cell_type": "code",
      "metadata": {
        "colab": {
          "base_uri": "https://localhost:8080/"
        },
        "id": "XeQbKNGe8r6K",
        "outputId": "ec9b0041-f646-4f71-8281-fbb7212e453c"
      },
      "source": [
        "vectorizer.get_feature_names()"
      ],
      "execution_count": 110,
      "outputs": [
        {
          "output_type": "execute_result",
          "data": {
            "text/plain": [
              "['abs',\n",
              " 'ac',\n",
              " 'access',\n",
              " 'accessories',\n",
              " 'accessory',\n",
              " 'accurate',\n",
              " 'across',\n",
              " 'action',\n",
              " 'adapter',\n",
              " 'add',\n",
              " 'addition',\n",
              " 'additional',\n",
              " 'adjust',\n",
              " 'adjustable',\n",
              " 'advance',\n",
              " 'age',\n",
              " 'air',\n",
              " 'allow',\n",
              " 'almost',\n",
              " 'along',\n",
              " 'also',\n",
              " 'aluminium',\n",
              " 'always',\n",
              " 'amaze',\n",
              " 'amazon',\n",
              " 'amazonbasics',\n",
              " 'american',\n",
              " 'analysis',\n",
              " 'android',\n",
              " 'angle',\n",
              " 'another',\n",
              " 'answer',\n",
              " 'anyone',\n",
              " 'anywhere',\n",
              " 'aplusp',\n",
              " 'apple',\n",
              " 'apply',\n",
              " 'approach',\n",
              " 'approx',\n",
              " 'area',\n",
              " 'areas',\n",
              " 'arm',\n",
              " 'around',\n",
              " 'art',\n",
              " 'attach',\n",
              " 'attractive',\n",
              " 'audio',\n",
              " 'author',\n",
              " 'auto',\n",
              " 'automatic',\n",
              " 'automatically',\n",
              " 'available',\n",
              " 'avoid',\n",
              " 'award',\n",
              " 'away',\n",
              " 'baby',\n",
              " 'back',\n",
              " 'bag',\n",
              " 'balance',\n",
              " 'band',\n",
              " 'bank',\n",
              " 'bar',\n",
              " 'base',\n",
              " 'basic',\n",
              " 'basket',\n",
              " 'bass',\n",
              " 'bath',\n",
              " 'bathroom',\n",
              " 'batteries',\n",
              " 'battery',\n",
              " 'bean',\n",
              " 'bear',\n",
              " 'beautiful',\n",
              " 'beauty',\n",
              " 'become',\n",
              " 'bed',\n",
              " 'bedroom',\n",
              " 'begin',\n",
              " 'behind',\n",
              " 'belt',\n",
              " 'best',\n",
              " 'bestselling',\n",
              " 'better',\n",
              " 'big',\n",
              " 'black',\n",
              " 'blade',\n",
              " 'blades',\n",
              " 'blend',\n",
              " 'block',\n",
              " 'blue',\n",
              " 'bluetooth',\n",
              " 'board',\n",
              " 'boat',\n",
              " 'body',\n",
              " 'book',\n",
              " 'bottle',\n",
              " 'bottom',\n",
              " 'bowl',\n",
              " 'box',\n",
              " 'boys',\n",
              " 'bra',\n",
              " 'brand',\n",
              " 'brass',\n",
              " 'bright',\n",
              " 'bring',\n",
              " 'brown',\n",
              " 'brush',\n",
              " 'build',\n",
              " 'builtin',\n",
              " 'business',\n",
              " 'button',\n",
              " 'buy',\n",
              " 'cabinet',\n",
              " 'cable',\n",
              " 'cake',\n",
              " 'call',\n",
              " 'camera',\n",
              " 'cameras',\n",
              " 'candle',\n",
              " 'canon',\n",
              " 'cap',\n",
              " 'capacity',\n",
              " 'capture',\n",
              " 'car',\n",
              " 'card',\n",
              " 'care',\n",
              " 'carefully',\n",
              " 'carry',\n",
              " 'case',\n",
              " 'casual',\n",
              " 'center',\n",
              " 'ceramic',\n",
              " 'chair',\n",
              " 'change',\n",
              " 'channel',\n",
              " 'chapter',\n",
              " 'charge',\n",
              " 'charger',\n",
              " 'check',\n",
              " 'child',\n",
              " 'children',\n",
              " 'choice',\n",
              " 'choose',\n",
              " 'chrome',\n",
              " 'class',\n",
              " 'classic',\n",
              " 'clean',\n",
              " 'cleaner',\n",
              " 'clear',\n",
              " 'clip',\n",
              " 'clock',\n",
              " 'close',\n",
              " 'cloth',\n",
              " 'clothe',\n",
              " 'cm',\n",
              " 'coat',\n",
              " 'coffee',\n",
              " 'cold',\n",
              " 'collection',\n",
              " 'college',\n",
              " 'color',\n",
              " 'colour',\n",
              " 'combination',\n",
              " 'combine',\n",
              " 'combo',\n",
              " 'come',\n",
              " 'comfort',\n",
              " 'comfortable',\n",
              " 'compact',\n",
              " 'company',\n",
              " 'compatibility',\n",
              " 'compatible',\n",
              " 'complete',\n",
              " 'completely',\n",
              " 'comprise',\n",
              " 'computer',\n",
              " 'condition',\n",
              " 'connect',\n",
              " 'connection',\n",
              " 'connectivity',\n",
              " 'connector',\n",
              " 'construction',\n",
              " 'contact',\n",
              " 'contain',\n",
              " 'container',\n",
              " 'contemporary',\n",
              " 'content',\n",
              " 'control',\n",
              " 'convenience',\n",
              " 'convenient',\n",
              " 'cook',\n",
              " 'cool',\n",
              " 'copper',\n",
              " 'cord',\n",
              " 'core',\n",
              " 'cotton',\n",
              " 'could',\n",
              " 'country',\n",
              " 'course',\n",
              " 'cover',\n",
              " 'craft',\n",
              " 'create',\n",
              " 'creative',\n",
              " 'cup',\n",
              " 'current',\n",
              " 'curtain',\n",
              " 'cushion',\n",
              " 'customers',\n",
              " 'cut',\n",
              " 'daily',\n",
              " 'damage',\n",
              " 'dark',\n",
              " 'data',\n",
              " 'day',\n",
              " 'days',\n",
              " 'db',\n",
              " 'decor',\n",
              " 'decorate',\n",
              " 'decoration',\n",
              " 'decorative',\n",
              " 'deep',\n",
              " 'degree',\n",
              " 'delhi',\n",
              " 'deliver',\n",
              " 'description',\n",
              " 'design',\n",
              " 'designer',\n",
              " 'desire',\n",
              " 'desk',\n",
              " 'desktop',\n",
              " 'detail',\n",
              " 'develop',\n",
              " 'development',\n",
              " 'device',\n",
              " 'devices',\n",
              " 'diameter',\n",
              " 'different',\n",
              " 'digital',\n",
              " 'dimension',\n",
              " 'din',\n",
              " 'direct',\n",
              " 'directly',\n",
              " 'director',\n",
              " 'dirt',\n",
              " 'dish',\n",
              " 'display',\n",
              " 'distance',\n",
              " 'do',\n",
              " 'door',\n",
              " 'double',\n",
              " 'dr',\n",
              " 'draw',\n",
              " 'drawer',\n",
              " 'dream',\n",
              " 'dress',\n",
              " 'drill',\n",
              " 'drink',\n",
              " 'drive',\n",
              " 'dry',\n",
              " 'dual',\n",
              " 'due',\n",
              " 'durability',\n",
              " 'durable',\n",
              " 'dust',\n",
              " 'dvd',\n",
              " 'ease',\n",
              " 'easily',\n",
              " 'easy',\n",
              " 'edge',\n",
              " 'edition',\n",
              " 'education',\n",
              " 'effect',\n",
              " 'effective',\n",
              " 'efficient',\n",
              " 'egg',\n",
              " 'elastic',\n",
              " 'electric',\n",
              " 'electronic',\n",
              " 'elegant',\n",
              " 'enable',\n",
              " 'end',\n",
              " 'energy',\n",
              " 'engineer',\n",
              " 'english',\n",
              " 'enhance',\n",
              " 'enjoy',\n",
              " 'enough',\n",
              " 'ensure',\n",
              " 'environment',\n",
              " 'equip',\n",
              " 'essential',\n",
              " 'etc',\n",
              " 'ethnic',\n",
              " 'even',\n",
              " 'ever',\n",
              " 'every',\n",
              " 'everyday',\n",
              " 'everyone',\n",
              " 'everything',\n",
              " 'exam',\n",
              " 'examinations',\n",
              " 'excellent',\n",
              " 'experience',\n",
              " 'experts',\n",
              " 'extend',\n",
              " 'external',\n",
              " 'extra',\n",
              " 'extremely',\n",
              " 'eye',\n",
              " 'fabric',\n",
              " 'face',\n",
              " 'family',\n",
              " 'fan',\n",
              " 'fashion',\n",
              " 'fast',\n",
              " 'faster',\n",
              " 'favorite',\n",
              " 'favourite',\n",
              " 'feature',\n",
              " 'feel',\n",
              " 'feet',\n",
              " 'field',\n",
              " 'file',\n",
              " 'fill',\n",
              " 'film',\n",
              " 'filter',\n",
              " 'financial',\n",
              " 'find',\n",
              " 'fine',\n",
              " 'finish',\n",
              " 'first',\n",
              " 'fit',\n",
              " 'fix',\n",
              " 'flash',\n",
              " 'flat',\n",
              " 'flexible',\n",
              " 'floor',\n",
              " 'flow',\n",
              " 'flower',\n",
              " 'fm',\n",
              " 'focus',\n",
              " 'fold',\n",
              " 'foldable',\n",
              " 'follow',\n",
              " 'food',\n",
              " 'foot',\n",
              " 'form',\n",
              " 'formal',\n",
              " 'format',\n",
              " 'four',\n",
              " 'frame',\n",
              " 'free',\n",
              " 'frequency',\n",
              " 'fresh',\n",
              " 'friendly',\n",
              " 'friends',\n",
              " 'front',\n",
              " 'fruit',\n",
              " 'ft',\n",
              " 'full',\n",
              " 'fully',\n",
              " 'fun',\n",
              " 'function',\n",
              " 'furniture',\n",
              " 'game',\n",
              " 'garden',\n",
              " 'garment',\n",
              " 'gb',\n",
              " 'general',\n",
              " 'get',\n",
              " 'ghz',\n",
              " 'gift',\n",
              " 'girl',\n",
              " 'girls',\n",
              " 'give',\n",
              " 'glass',\n",
              " 'gloves',\n",
              " 'go',\n",
              " 'gold',\n",
              " 'good',\n",
              " 'grade',\n",
              " 'great',\n",
              " 'green',\n",
              " 'grey',\n",
              " 'grind',\n",
              " 'grip',\n",
              " 'group',\n",
              " 'grow',\n",
              " 'gsm',\n",
              " 'guarantee',\n",
              " 'guide',\n",
              " 'hair',\n",
              " 'hand',\n",
              " 'handle',\n",
              " 'handy',\n",
              " 'hang',\n",
              " 'hard',\n",
              " 'hd',\n",
              " 'hdmi',\n",
              " 'head',\n",
              " 'headphones',\n",
              " 'health',\n",
              " 'healthy',\n",
              " 'heat',\n",
              " 'heater',\n",
              " 'heavy',\n",
              " 'height',\n",
              " 'help',\n",
              " 'high',\n",
              " 'highest',\n",
              " 'highly',\n",
              " 'history',\n",
              " 'hold',\n",
              " 'holder',\n",
              " 'hole',\n",
              " 'home',\n",
              " 'hook',\n",
              " 'hot',\n",
              " 'hours',\n",
              " 'house',\n",
              " 'household',\n",
              " 'hp',\n",
              " 'human',\n",
              " 'hz',\n",
              " 'ice',\n",
              " 'ideal',\n",
              " 'image',\n",
              " 'important',\n",
              " 'improve',\n",
              " 'inch',\n",
              " 'include',\n",
              " 'increase',\n",
              " 'india',\n",
              " 'indian',\n",
              " 'indoor',\n",
              " 'information',\n",
              " 'inner',\n",
              " 'innovative',\n",
              " 'input',\n",
              " 'inside',\n",
              " 'inspire',\n",
              " 'install',\n",
              " 'installation',\n",
              " 'instant',\n",
              " 'institute',\n",
              " 'interest',\n",
              " 'interface',\n",
              " 'international',\n",
              " 'internet',\n",
              " 'ipad',\n",
              " 'iphone',\n",
              " 'iron',\n",
              " 'issue',\n",
              " 'item',\n",
              " 'items',\n",
              " 'jack',\n",
              " 'jacket',\n",
              " 'jar',\n",
              " 'jbl',\n",
              " 'job',\n",
              " 'keep',\n",
              " 'key',\n",
              " 'keyboard',\n",
              " 'kg',\n",
              " 'kid',\n",
              " 'kit',\n",
              " 'kitchen',\n",
              " 'knife',\n",
              " 'know',\n",
              " 'knowledge',\n",
              " 'kurta',\n",
              " 'lamp',\n",
              " 'language',\n",
              " 'laptop',\n",
              " 'large',\n",
              " 'last',\n",
              " 'latest',\n",
              " 'layer',\n",
              " 'lcd',\n",
              " 'lead',\n",
              " 'learn',\n",
              " 'leather',\n",
              " 'leave',\n",
              " 'leggings',\n",
              " 'length',\n",
              " 'lens',\n",
              " 'less',\n",
              " 'let',\n",
              " 'level',\n",
              " 'lid',\n",
              " 'life',\n",
              " 'lifestyle',\n",
              " 'light',\n",
              " 'lightweight',\n",
              " 'like',\n",
              " 'limit',\n",
              " 'line',\n",
              " 'list',\n",
              " 'listen',\n",
              " 'little',\n",
              " 'live',\n",
              " 'load',\n",
              " 'lock',\n",
              " 'long',\n",
              " 'longer',\n",
              " 'look',\n",
              " 'lot',\n",
              " 'love',\n",
              " 'low',\n",
              " 'lower',\n",
              " 'machine',\n",
              " 'magazine',\n",
              " 'mah',\n",
              " 'main',\n",
              " 'maintain',\n",
              " 'make',\n",
              " 'maker',\n",
              " 'male',\n",
              " 'man',\n",
              " 'management',\n",
              " 'manual',\n",
              " 'manufacture',\n",
              " 'manufacturer',\n",
              " 'many',\n",
              " 'mark',\n",
              " 'market',\n",
              " 'master',\n",
              " 'mat',\n",
              " 'match',\n",
              " 'material',\n",
              " 'materials',\n",
              " 'maternity',\n",
              " 'matter',\n",
              " 'max',\n",
              " 'maximum',\n",
              " 'may',\n",
              " 'mbps',\n",
              " 'mean',\n",
              " 'measure',\n",
              " 'media',\n",
              " 'medical',\n",
              " 'medicine',\n",
              " 'medium',\n",
              " 'meet',\n",
              " 'memory',\n",
              " 'men',\n",
              " 'metal',\n",
              " 'meter',\n",
              " 'methods',\n",
              " 'mic',\n",
              " 'micro',\n",
              " 'microphone',\n",
              " 'might',\n",
              " 'mind',\n",
              " 'mini',\n",
              " 'minutes',\n",
              " 'mirror',\n",
              " 'mix',\n",
              " 'mixer',\n",
              " 'ml',\n",
              " 'mm',\n",
              " 'mobile',\n",
              " 'mode',\n",
              " 'model',\n",
              " 'modern',\n",
              " 'money',\n",
              " 'monitor',\n",
              " 'months',\n",
              " 'motor',\n",
              " 'mount',\n",
              " 'mouse',\n",
              " 'move',\n",
              " 'mp',\n",
              " 'much',\n",
              " 'multi',\n",
              " 'multicolour',\n",
              " 'multiple',\n",
              " 'multipurpose',\n",
              " 'music',\n",
              " 'must',\n",
              " 'name',\n",
              " 'national',\n",
              " 'natural',\n",
              " 'nature',\n",
              " 'neck',\n",
              " 'need',\n",
              " 'net',\n",
              " 'network',\n",
              " 'never',\n",
              " 'new',\n",
              " 'next',\n",
              " 'night',\n",
              " 'noise',\n",
              " 'not',\n",
              " 'note',\n",
              " 'novel',\n",
              " 'number',\n",
              " 'nurse',\n",
              " 'occasion',\n",
              " 'offer',\n",
              " 'office',\n",
              " 'often',\n",
              " 'oil',\n",
              " 'old',\n",
              " 'one',\n",
              " 'ones',\n",
              " 'online',\n",
              " 'open',\n",
              " 'operate',\n",
              " 'operation',\n",
              " 'optical',\n",
              " 'option',\n",
              " 'order',\n",
              " 'organize',\n",
              " 'original',\n",
              " 'outdoor',\n",
              " 'output',\n",
              " 'pack',\n",
              " 'package',\n",
              " 'pad',\n",
              " 'page',\n",
              " 'paint',\n",
              " 'pair',\n",
              " 'pan',\n",
              " 'panel',\n",
              " 'pant',\n",
              " 'paper',\n",
              " 'part',\n",
              " 'party',\n",
              " 'past',\n",
              " 'pattern',\n",
              " 'pc',\n",
              " 'pcs',\n",
              " 'pen',\n",
              " 'people',\n",
              " 'per',\n",
              " 'perfect',\n",
              " 'perfectly',\n",
              " 'performance',\n",
              " 'personal',\n",
              " 'phone',\n",
              " 'photo',\n",
              " 'photography',\n",
              " 'photos',\n",
              " 'pick',\n",
              " 'picture',\n",
              " 'piece',\n",
              " 'pillow',\n",
              " 'pin',\n",
              " 'pink',\n",
              " 'place',\n",
              " 'plant',\n",
              " 'plastic',\n",
              " 'plat',\n",
              " 'plate',\n",
              " 'play',\n",
              " 'player',\n",
              " 'please',\n",
              " 'plug',\n",
              " 'plus',\n",
              " 'pocket',\n",
              " 'point',\n",
              " 'polyester',\n",
              " 'popular',\n",
              " 'port',\n",
              " 'portable',\n",
              " 'position',\n",
              " 'possible',\n",
              " 'post',\n",
              " 'pot',\n",
              " 'power',\n",
              " 'powerful',\n",
              " 'practical',\n",
              " 'practice',\n",
              " 'premium',\n",
              " 'prepare',\n",
              " 'present',\n",
              " 'press',\n",
              " 'pressure',\n",
              " 'prevent',\n",
              " 'price',\n",
              " 'print',\n",
              " 'pro',\n",
              " 'process',\n",
              " 'processor',\n",
              " 'produce',\n",
              " 'product',\n",
              " 'products',\n",
              " 'professional',\n",
              " 'professionals',\n",
              " 'professor',\n",
              " 'program',\n",
              " 'project',\n",
              " 'proof',\n",
              " 'protect',\n",
              " 'protection',\n",
              " 'provide',\n",
              " 'public',\n",
              " 'publish',\n",
              " 'pull',\n",
              " 'purchase',\n",
              " 'pure',\n",
              " 'purpose',\n",
              " 'put',\n",
              " 'pvc',\n",
              " 'quality',\n",
              " 'question',\n",
              " 'quick',\n",
              " 'quickly',\n",
              " 'rack',\n",
              " 'radio',\n",
              " 'ram',\n",
              " 'range',\n",
              " 'rat',\n",
              " 'reach',\n",
              " 'read',\n",
              " 'reader',\n",
              " 'readers',\n",
              " 'ready',\n",
              " 'real',\n",
              " 'really',\n",
              " 'receive',\n",
              " 'receiver',\n",
              " 'rechargeable',\n",
              " 'recommend',\n",
              " 'record',\n",
              " 'red',\n",
              " 'reduce',\n",
              " 'regular',\n",
              " 'release',\n",
              " 'remote',\n",
              " 'remove',\n",
              " 'require',\n",
              " 'requirements',\n",
              " 'research',\n",
              " 'resistant',\n",
              " 'resolution',\n",
              " 'result',\n",
              " 'review',\n",
              " 'rich',\n",
              " 'right',\n",
              " 'ring',\n",
              " 'rise',\n",
              " 'roll',\n",
              " 'room',\n",
              " 'round',\n",
              " 'royal',\n",
              " 'rubber',\n",
              " 'run',\n",
              " 'safe',\n",
              " 'safety',\n",
              " 'samsung',\n",
              " 'save',\n",
              " 'say',\n",
              " 'school',\n",
              " 'science',\n",
              " 'scratch',\n",
              " 'screen',\n",
              " 'screw',\n",
              " 'sd',\n",
              " 'season',\n",
              " 'seat',\n",
              " 'second',\n",
              " 'secure',\n",
              " 'security',\n",
              " 'see',\n",
              " 'select',\n",
              " 'sell',\n",
              " 'sensor',\n",
              " 'series',\n",
              " 'serve',\n",
              " 'service',\n",
              " 'set',\n",
              " 'settings',\n",
              " 'several',\n",
              " 'sew',\n",
              " 'shade',\n",
              " 'shape',\n",
              " 'share',\n",
              " 'sharp',\n",
              " 'sheet',\n",
              " 'shirt',\n",
              " 'shoe',\n",
              " 'shoot',\n",
              " 'shop',\n",
              " 'short',\n",
              " 'show',\n",
              " 'shower',\n",
              " 'side',\n",
              " 'signal',\n",
              " 'silicone',\n",
              " 'silk',\n",
              " 'silver',\n",
              " 'simple',\n",
              " 'simply',\n",
              " 'since',\n",
              " 'single',\n",
              " 'sit',\n",
              " 'size',\n",
              " 'skin',\n",
              " 'sleek',\n",
              " 'sleep',\n",
              " 'sleeve',\n",
              " 'slightly',\n",
              " 'slim',\n",
              " 'slot',\n",
              " 'small',\n",
              " 'smart',\n",
              " 'smartphone',\n",
              " 'smartphones',\n",
              " 'smooth',\n",
              " 'sock',\n",
              " 'sofa',\n",
              " 'soft',\n",
              " 'software',\n",
              " 'solid',\n",
              " 'solution',\n",
              " 'solve',\n",
              " 'something',\n",
              " 'sony',\n",
              " 'sound',\n",
              " 'source',\n",
              " 'space',\n",
              " 'speaker',\n",
              " 'speakers',\n",
              " 'special',\n",
              " 'specially',\n",
              " 'specification',\n",
              " 'specifications',\n",
              " 'speed',\n",
              " 'sport',\n",
              " 'spray',\n",
              " 'square',\n",
              " 'stainless',\n",
              " 'stand',\n",
              " 'standard',\n",
              " 'star',\n",
              " 'start',\n",
              " 'state',\n",
              " 'stay',\n",
              " 'steam',\n",
              " 'steel',\n",
              " 'step',\n",
              " 'stereo',\n",
              " 'stick',\n",
              " 'stickers',\n",
              " 'still',\n",
              " 'stitch',\n",
              " 'stop',\n",
              " 'storage',\n",
              " 'store',\n",
              " 'stories',\n",
              " 'story',\n",
              " 'strap',\n",
              " 'stream',\n",
              " 'strength',\n",
              " 'strip',\n",
              " 'strong',\n",
              " 'students',\n",
              " 'study',\n",
              " 'sturdy',\n",
              " 'style',\n",
              " 'stylish',\n",
              " 'subject',\n",
              " 'suction',\n",
              " 'suit',\n",
              " 'suitable',\n",
              " 'sunglasses',\n",
              " 'super',\n",
              " 'superior',\n",
              " 'supply',\n",
              " 'support',\n",
              " 'sure',\n",
              " 'surface',\n",
              " 'switch',\n",
              " 'system',\n",
              " 'systems',\n",
              " 'table',\n",
              " 'tablet',\n",
              " 'take',\n",
              " 'tank',\n",
              " 'task',\n",
              " 'tea',\n",
              " 'teach',\n",
              " 'team',\n",
              " 'technical',\n",
              " 'technology',\n",
              " 'tell',\n",
              " 'temperature',\n",
              " 'test',\n",
              " 'th',\n",
              " 'thank',\n",
              " 'thermal',\n",
              " 'things',\n",
              " 'think',\n",
              " 'thread',\n",
              " 'three',\n",
              " 'thus',\n",
              " 'tie',\n",
              " 'time',\n",
              " 'tip',\n",
              " 'today',\n",
              " 'together',\n",
              " 'tool',\n",
              " 'top',\n",
              " 'total',\n",
              " 'touch',\n",
              " 'towel',\n",
              " 'track',\n",
              " 'traditional',\n",
              " 'train',\n",
              " 'transfer',\n",
              " 'transparent',\n",
              " 'travel',\n",
              " 'tray',\n",
              " 'trendy',\n",
              " 'tripod',\n",
              " 'true',\n",
              " 'try',\n",
              " 'tshirt',\n",
              " 'turn',\n",
              " 'tv',\n",
              " 'two',\n",
              " 'type',\n",
              " 'ultra',\n",
              " 'understand',\n",
              " 'unique',\n",
              " 'unit',\n",
              " 'universal',\n",
              " 'university',\n",
              " 'update',\n",
              " 'upto',\n",
              " 'us',\n",
              " 'usage',\n",
              " 'usb',\n",
              " 'use',\n",
              " 'useful',\n",
              " 'user',\n",
              " 'uv',\n",
              " 'vacuum',\n",
              " 'value',\n",
              " 'variety',\n",
              " 'various',\n",
              " 'vary',\n",
              " 'versatile',\n",
              " 'video',\n",
              " 'videos',\n",
              " 'view',\n",
              " 'voice',\n",
              " 'voltage',\n",
              " 'volume',\n",
              " 'waist',\n",
              " 'wall',\n",
              " 'want',\n",
              " 'wardrobe',\n",
              " 'warm',\n",
              " 'warranty',\n",
              " 'wash',\n",
              " 'watch',\n",
              " 'water',\n",
              " 'waterproof',\n",
              " 'watt',\n",
              " 'watts',\n",
              " 'way',\n",
              " 'wear',\n",
              " 'weather',\n",
              " 'weight',\n",
              " 'well',\n",
              " 'wet',\n",
              " 'whether',\n",
              " 'white',\n",
              " 'whole',\n",
              " 'wide',\n",
              " 'width',\n",
              " 'wifi',\n",
              " 'win',\n",
              " 'window',\n",
              " 'windows',\n",
              " 'winter',\n",
              " 'wire',\n",
              " 'wireless',\n",
              " 'within',\n",
              " 'without',\n",
              " 'women',\n",
              " 'wood',\n",
              " 'wooden',\n",
              " 'word',\n",
              " 'work',\n",
              " 'world',\n",
              " 'worry',\n",
              " 'would',\n",
              " 'write',\n",
              " 'writer',\n",
              " 'year',\n",
              " 'years',\n",
              " 'yellow',\n",
              " 'yes',\n",
              " 'yet',\n",
              " 'york',\n",
              " 'zoom']"
            ]
          },
          "metadata": {
            "tags": []
          },
          "execution_count": 110
        }
      ]
    },
    {
      "cell_type": "markdown",
      "metadata": {
        "id": "L6ZCc8fI-Eq3"
      },
      "source": [
        "#### **CountVectorizer**"
      ]
    },
    {
      "cell_type": "code",
      "metadata": {
        "id": "y8UZKI8k8uQU"
      },
      "source": [
        "vectorizer = CountVectorizer(max_features=1000)\r\n",
        "# vectorizer.fit(X_train)\r\n",
        "# X_train_features = vectorizer.transform(X_train)\r\n",
        "x_train_features = vectorizer.fit_transform(x_train)\r\n",
        "x_test_features = vectorizer.transform(x_test)"
      ],
      "execution_count": 111,
      "outputs": []
    },
    {
      "cell_type": "code",
      "metadata": {
        "id": "hs5xfVbF82pf"
      },
      "source": [
        "model1 = xgb.XGBClassifier()"
      ],
      "execution_count": 112,
      "outputs": []
    },
    {
      "cell_type": "code",
      "metadata": {
        "colab": {
          "base_uri": "https://localhost:8080/"
        },
        "id": "yyS76muQ851Z",
        "outputId": "1b2b68f6-46cb-4c82-bf48-5b2eb6c0f773"
      },
      "source": [
        "model1.fit(x_train_features, y_train)"
      ],
      "execution_count": 113,
      "outputs": [
        {
          "output_type": "execute_result",
          "data": {
            "text/plain": [
              "XGBClassifier(base_score=0.5, booster='gbtree', colsample_bylevel=1,\n",
              "              colsample_bynode=1, colsample_bytree=1, gamma=0,\n",
              "              learning_rate=0.1, max_delta_step=0, max_depth=3,\n",
              "              min_child_weight=1, missing=None, n_estimators=100, n_jobs=1,\n",
              "              nthread=None, objective='multi:softprob', random_state=0,\n",
              "              reg_alpha=0, reg_lambda=1, scale_pos_weight=1, seed=None,\n",
              "              silent=None, subsample=1, verbosity=1)"
            ]
          },
          "metadata": {
            "tags": []
          },
          "execution_count": 113
        }
      ]
    },
    {
      "cell_type": "code",
      "metadata": {
        "colab": {
          "base_uri": "https://localhost:8080/"
        },
        "id": "MnTg2YZR8_4b",
        "outputId": "61a4a510-14c1-4653-ab29-2d0771af52dc"
      },
      "source": [
        "model1.score(x_train_features, y_train), model1.score(x_test_features, y_test)"
      ],
      "execution_count": 114,
      "outputs": [
        {
          "output_type": "execute_result",
          "data": {
            "text/plain": [
              "(0.8709768812330009, 0.8654723342367951)"
            ]
          },
          "metadata": {
            "tags": []
          },
          "execution_count": 114
        }
      ]
    },
    {
      "cell_type": "code",
      "metadata": {
        "id": "RxkCBO6S9vzP"
      },
      "source": [
        "data_features = vectorizer.transform(df['Text_p'])"
      ],
      "execution_count": 115,
      "outputs": []
    },
    {
      "cell_type": "code",
      "metadata": {
        "id": "x7iMtt-w9Sfs"
      },
      "source": [
        "model1.score(x_train_features, y_train), model1.score(x_test_features, y_test)\r\n",
        "df['group_p1'] = model1.predict(data_features)\r\n",
        "df['flag1'] = df['group_p1']==df['Label']"
      ],
      "execution_count": 116,
      "outputs": []
    },
    {
      "cell_type": "code",
      "metadata": {
        "colab": {
          "base_uri": "https://localhost:8080/"
        },
        "id": "jqe4hQIwng20",
        "outputId": "617d6820-ffab-4654-8b65-5cb8207ca064"
      },
      "source": [
        "df['group_p1']"
      ],
      "execution_count": 117,
      "outputs": [
        {
          "output_type": "execute_result",
          "data": {
            "text/plain": [
              "0                     Household\n",
              "1                     Household\n",
              "2                     Household\n",
              "3        Clothing & Accessories\n",
              "4                     Household\n",
              "                  ...          \n",
              "50419                     Books\n",
              "50420    Clothing & Accessories\n",
              "50421    Clothing & Accessories\n",
              "50422                     Books\n",
              "50423                 Household\n",
              "Name: group_p1, Length: 50423, dtype: object"
            ]
          },
          "metadata": {
            "tags": []
          },
          "execution_count": 117
        }
      ]
    },
    {
      "cell_type": "code",
      "metadata": {
        "colab": {
          "base_uri": "https://localhost:8080/"
        },
        "id": "Ul0VQQpB9Zv1",
        "outputId": "cbf3632b-f1b9-402e-cd63-d37f7ed1a116"
      },
      "source": [
        "print(f\"Overall Accuracy: {df['flag1'].mean():.2%}\")\r\n",
        "print(\"\\n\")\r\n",
        "print(df.groupby(by='group_p1')['flag1'].agg(['mean','count']).round(2))"
      ],
      "execution_count": 118,
      "outputs": [
        {
          "output_type": "stream",
          "text": [
            "Overall Accuracy: 86.93%\n",
            "\n",
            "\n",
            "                        mean  count\n",
            "group_p1                           \n",
            "Books                   0.96   9349\n",
            "Clothing & Accessories  0.93   8424\n",
            "Electronics             0.96   8917\n",
            "Household               0.78  23733\n"
          ],
          "name": "stdout"
        }
      ]
    },
    {
      "cell_type": "markdown",
      "metadata": {
        "id": "f4XoKhN2-4WQ"
      },
      "source": [
        "#### **TfidfVectorizer**"
      ]
    },
    {
      "cell_type": "code",
      "metadata": {
        "id": "nJeZDT7D-KED"
      },
      "source": [
        "vectorizer = TfidfVectorizer(max_features=1000)\r\n",
        "x_train_features = vectorizer.fit_transform(x_train)\r\n",
        "x_test_features = vectorizer.transform(x_test)\r\n"
      ],
      "execution_count": 119,
      "outputs": []
    },
    {
      "cell_type": "code",
      "metadata": {
        "colab": {
          "base_uri": "https://localhost:8080/"
        },
        "id": "2qSZ6rFB_2oE",
        "outputId": "84c59b13-caf8-40a1-8b43-edcdd40ad937"
      },
      "source": [
        "\r\n",
        "model2 = xgb.XGBClassifier()\r\n",
        "\r\n",
        "model2.fit(x_train_features, y_train)\r\n",
        "\r\n",
        "print(model2.score(x_train_features, y_train), model2.score(x_test_features, y_test))\r\n",
        "\r\n",
        "data_features = vectorizer.transform(df['Text_p'])\r\n",
        "\r\n",
        "df['group_p2'] = model2.predict(data_features)\r\n",
        "\r\n",
        "df['flag2'] = df['group_p2']==df['Label']\r\n",
        "\r\n",
        "print(f\"Overall Accuracy: {df['flag2'].mean():.2%}\")\r\n",
        "print(\"\\n\")\r\n",
        "print(df.groupby(by='group_p2')['flag2'].agg(['mean','count']).round(2))\r\n",
        "\r\n",
        "feature_imp = pd.DataFrame(zip(model.feature_importances_, vectorizer.get_feature_names()),\r\n",
        "                          columns=['importance', 'word'])\r\n"
      ],
      "execution_count": 120,
      "outputs": [
        {
          "output_type": "stream",
          "text": [
            "0.8735834088848595 0.8665300456138031\n",
            "Overall Accuracy: 87.15%\n",
            "\n",
            "\n",
            "                        mean  count\n",
            "group_p2                           \n",
            "Books                   0.96   9309\n",
            "Clothing & Accessories  0.94   8382\n",
            "Electronics             0.96   8952\n",
            "Household               0.78  23780\n"
          ],
          "name": "stdout"
        }
      ]
    },
    {
      "cell_type": "code",
      "metadata": {
        "id": "p9jZ2YEpjWwF"
      },
      "source": [
        "############# Prepaire variables for confuse Matrix ###############\r\n",
        "# Predict the values from the validation dataset\r\n",
        "\r\n",
        "data_features = vectorizer.transform(x_test)\r\n",
        "Y_pred = model1.predict(data_features)\r\n"
      ],
      "execution_count": 121,
      "outputs": []
    },
    {
      "cell_type": "code",
      "metadata": {
        "id": "KYsGc-HjAWhr",
        "colab": {
          "base_uri": "https://localhost:8080/",
          "height": 428
        },
        "outputId": "a348f5b6-f4d1-4349-b2ba-08300fd887ea"
      },
      "source": [
        "########################## Make Confuse Matrix for CountVectorizer method ######################\r\n",
        "import matplotlib.pyplot as plt\r\n",
        "import seaborn as sns\r\n",
        "from sklearn.metrics import confusion_matrix\r\n",
        "\r\n",
        "#conf_mat = confusion_matrix(y_true,result )\r\n",
        "conf_mat = confusion_matrix(y_test, Y_pred )\r\n",
        "\r\n",
        "df_cm = pd.DataFrame(conf_mat, index = [i for i in range(0, 4)],\r\n",
        "                  columns = [i for i in range(0, 4)])\r\n",
        "plt.figure(figsize = (10,7))\r\n",
        "sns.heatmap(df_cm, annot=True, fmt='g');"
      ],
      "execution_count": 122,
      "outputs": [
        {
          "output_type": "display_data",
          "data": {
            "image/png": "[encoded data removed]",
            "text/plain": [
              "<Figure size 720x504 with 2 Axes>"
            ]
          },
          "metadata": {
            "tags": [],
            "needs_background": "light"
          }
        }
      ]
    },
    {
      "cell_type": "code",
      "metadata": {
        "colab": {
          "base_uri": "https://localhost:8080/",
          "height": 428
        },
        "id": "ePRcdJtNbO8C",
        "outputId": "e1cd7609-cf92-4f64-9684-fbcb1907d8a1"
      },
      "source": [
        "########################## Make Confuse Matrix for TfidfVectorizer method ######################\r\n",
        "Y_pred = model2.predict(data_features)\r\n",
        "\r\n",
        "conf_mat = confusion_matrix(y_test, Y_pred )\r\n",
        "\r\n",
        "df_cm = pd.DataFrame(conf_mat, index = [i for i in range(0, 4)],\r\n",
        "                  columns = [i for i in range(0, 4)])\r\n",
        "plt.figure(figsize = (10,7))\r\n",
        "sns.heatmap(df_cm, annot=True, fmt='g');"
      ],
      "execution_count": 123,
      "outputs": [
        {
          "output_type": "display_data",
          "data": {
            "image/png": "[encoded data removed]",
            "text/plain": [
              "<Figure size 720x504 with 2 Axes>"
            ]
          },
          "metadata": {
            "tags": [],
            "needs_background": "light"
          }
        }
      ]
    },
    {
      "cell_type": "markdown",
      "metadata": {
        "id": "wy8vFDGgAW4P"
      },
      "source": [
        "### **Summary**\r\n",
        "\r\n",
        "The point of this exercise was to create a model which took text data and correctly classify the text into different groups. The data sets is possile from a department store which has descriptions of items, i. e. the text variable, match with a caterogy of the item.(\"Electronics\", \"HouseHold\", \"Books\", \"Clothing & Accessories\")\r\n",
        "\r\n",
        "Like any data set, in order to build the best model, you should clean up the data. Since this is textual data, I used a method of pre-proccessing that involved removing numbers, stop words, punctuations, html tags. \r\n",
        "\r\n",
        "I used two modeling techniques, countvectorizer and TfidfVectorizer to help catgorize the data. Countvectorizer gave a slightly higher accuracy then TfidfVectorizer. With an accuracy of 88 percent that's seems okay but there is always room for improvement. \r\n",
        "\r\n",
        "Pre-Processing can be improved by adding other techniques along with using less features for each model.\r\n",
        "\r\n",
        "\r\n"
      ]
    }
  ]
}